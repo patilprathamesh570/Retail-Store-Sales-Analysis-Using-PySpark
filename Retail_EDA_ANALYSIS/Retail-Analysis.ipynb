{
 "cells": [
  {
   "cell_type": "markdown",
   "metadata": {},
   "source": [
    "# Analysis of Retail Data Insights With PySpark"
   ]
  },
  {
   "cell_type": "code",
   "execution_count": 1,
   "metadata": {},
   "outputs": [],
   "source": [
    "import pyspark\n",
    "from pyspark.sql import SparkSession\n",
    "from pyspark.sql.types import StructType,StructField, StringType, IntegerType, FloatType"
   ]
  },
  {
   "cell_type": "code",
   "execution_count": 2,
   "metadata": {},
   "outputs": [
    {
     "name": "stderr",
     "output_type": "stream",
     "text": [
      "Setting default log level to \"WARN\".\n",
      "To adjust logging level use sc.setLogLevel(newLevel). For SparkR, use setLogLevel(newLevel).\n",
      "23/03/09 23:08:23 WARN NativeCodeLoader: Unable to load native-hadoop library for your platform... using builtin-java classes where applicable\n"
     ]
    }
   ],
   "source": [
    "spark = SparkSession.builder.appName(\"retail-analysis\").getOrCreate()"
   ]
  },
  {
   "cell_type": "markdown",
   "metadata": {},
   "source": [
    "# Loading Data and Creating DataFrame Using PySpark"
   ]
  },
  {
   "cell_type": "code",
   "execution_count": 3,
   "metadata": {},
   "outputs": [],
   "source": [
    "# define the schema for customer dataset\n",
    "customers_schema = StructType([\n",
    "    StructField('customer_id',       IntegerType(), nullable=True),\n",
    "    StructField('customer_fname',    StringType(), nullable=True),\n",
    "    StructField('customer_lname',    StringType(), nullable=True),\n",
    "    StructField('customer_email',    StringType(), nullable=True),\n",
    "    StructField('customer_password', StringType(), nullable=True),\n",
    "    StructField('customer_street',   StringType(), nullable=True),\n",
    "    StructField('customer_city',     StringType(), nullable=True),\n",
    "    StructField('customer_state',    StringType(), nullable=True),\n",
    "    StructField('customer_zipcode',  StringType(), nullable=True)])"
   ]
  },
  {
   "cell_type": "code",
   "execution_count": 4,
   "metadata": {},
   "outputs": [],
   "source": [
    "# define the schema for product dataset\n",
    "products_schema = StructType([\n",
    "    StructField('product_id',          IntegerType(), nullable=True),\n",
    "    StructField('product_category_id', IntegerType(), nullable=True),\n",
    "    StructField('product_name',        StringType() , nullable=True),\n",
    "    StructField('product_description', StringType() , nullable=True),\n",
    "    StructField('product_price',       FloatType()  , nullable=True),\n",
    "    StructField('product_image',       StringType() , nullable=True)])"
   ]
  },
  {
   "cell_type": "code",
   "execution_count": 5,
   "metadata": {},
   "outputs": [],
   "source": [
    "# define schema for categories\n",
    "categories_schema = StructType([\n",
    "    StructField('category_id',            IntegerType(), nullable=True),\n",
    "    StructField('category_department_id', IntegerType(), nullable=True),\n",
    "    StructField('category_name',          StringType(), nullable=True)])"
   ]
  },
  {
   "cell_type": "code",
   "execution_count": 6,
   "metadata": {},
   "outputs": [],
   "source": [
    "# define the schema for orders\n",
    "orders_schema = StructType([\n",
    "    StructField('order_id',          IntegerType(), nullable=True),\n",
    "    StructField('order_date',        StringType(), nullable=True),\n",
    "    StructField('order_customer_id', IntegerType(), nullable=True),\n",
    "    StructField('order_status',      StringType(), nullable=True)])"
   ]
  },
  {
   "cell_type": "code",
   "execution_count": 7,
   "metadata": {},
   "outputs": [],
   "source": [
    "# define schema for department\n",
    "departments_schema = StructType([\n",
    "    StructField('department_id',   IntegerType(), nullable=True),\n",
    "    StructField('department_name', StringType(), nullable=True)])"
   ]
  },
  {
   "cell_type": "code",
   "execution_count": 8,
   "metadata": {},
   "outputs": [],
   "source": [
    "# define the schema for order items\n",
    "order_items_schema = StructType([\n",
    "    StructField('order_item_id',            IntegerType(), nullable=True),\n",
    "    StructField('order_item_order_id',      IntegerType(), nullable=True),\n",
    "    StructField('order_item_product_id',    IntegerType(), nullable=True),\n",
    "    StructField('order_item_quantity',      IntegerType(), nullable=True),\n",
    "    StructField('order_item_subtotal',      FloatType(), nullable=True),\n",
    "    StructField('order_item_product_price', FloatType(), nullable=True)])"
   ]
  },
  {
   "cell_type": "code",
   "execution_count": 9,
   "metadata": {},
   "outputs": [],
   "source": [
    "# file location and type of file\n",
    "file_loc = '/config/workspace/data/'\n",
    "file_type = 'csv'"
   ]
  },
  {
   "cell_type": "code",
   "execution_count": 10,
   "metadata": {},
   "outputs": [],
   "source": [
    "customer_data = file_loc + 'customers.csv'\n",
    "products_data = file_loc + 'products.csv'\n",
    "categories_data = file_loc + 'categories.csv'\n",
    "departments_data = file_loc + 'departments.csv'\n",
    "orders_data = file_loc + 'orders.csv'\n",
    "order_items_data = file_loc + 'order_items.csv'"
   ]
  },
  {
   "cell_type": "code",
   "execution_count": 11,
   "metadata": {},
   "outputs": [],
   "source": [
    "# csv options \n",
    "first_row_is_header = False\n",
    "delimiter = ','"
   ]
  },
  {
   "cell_type": "code",
   "execution_count": 12,
   "metadata": {},
   "outputs": [],
   "source": [
    "# create a dataframe using the above details\n",
    "customers_df = spark.read.format(file_type) \\\n",
    "        .option(\"sep\", delimiter) \\\n",
    "        .option(\"header\", first_row_is_header) \\\n",
    "        .schema(customers_schema) \\\n",
    "        .load(customer_data)"
   ]
  },
  {
   "cell_type": "code",
   "execution_count": 13,
   "metadata": {},
   "outputs": [],
   "source": [
    "# create the dataframe\n",
    "products_df = spark.read.format(file_type) \\\n",
    "        .option(\"sep\", delimiter) \\\n",
    "        .option(\"header\", first_row_is_header) \\\n",
    "        .schema(products_schema) \\\n",
    "        .load(products_data)"
   ]
  },
  {
   "cell_type": "code",
   "execution_count": 14,
   "metadata": {},
   "outputs": [],
   "source": [
    "# create the dataframe\n",
    "categories_df = spark.read.format(file_type) \\\n",
    "        .option(\"sep\", delimiter) \\\n",
    "        .option(\"header\", first_row_is_header) \\\n",
    "        .schema(categories_schema) \\\n",
    "        .load(categories_data)"
   ]
  },
  {
   "cell_type": "code",
   "execution_count": 15,
   "metadata": {},
   "outputs": [],
   "source": [
    "# create the dataframe\n",
    "orders_df = spark.read.format(file_type) \\\n",
    "  .option(\"sep\", delimiter) \\\n",
    "  .option(\"header\", first_row_is_header) \\\n",
    "  .schema(orders_schema)  \\\n",
    "  .load(orders_data)"
   ]
  },
  {
   "cell_type": "code",
   "execution_count": 16,
   "metadata": {},
   "outputs": [],
   "source": [
    "# create the dataframe\n",
    "departments_df = spark.read.format(file_type) \\\n",
    "  .option(\"sep\", delimiter) \\\n",
    "  .option(\"header\", first_row_is_header) \\\n",
    "  .schema(departments_schema) \\\n",
    "  .load(departments_data)"
   ]
  },
  {
   "cell_type": "code",
   "execution_count": 17,
   "metadata": {},
   "outputs": [],
   "source": [
    "# create the dataframe\n",
    "order_items_df = spark.read.format(file_type) \\\n",
    "  .option(\"sep\", delimiter) \\\n",
    "  .option(\"header\", first_row_is_header) \\\n",
    "  .schema(order_items_schema) \\\n",
    "  .load(order_items_data)"
   ]
  },
  {
   "cell_type": "code",
   "execution_count": 18,
   "metadata": {},
   "outputs": [
    {
     "name": "stderr",
     "output_type": "stream",
     "text": [
      "                                                                                \r"
     ]
    },
    {
     "name": "stdout",
     "output_type": "stream",
     "text": [
      "+-----------+--------------+--------------+--------------+-----------------+--------------------+-------------+--------------+----------------+\n",
      "|customer_id|customer_fname|customer_lname|customer_email|customer_password|     customer_street|customer_city|customer_state|customer_zipcode|\n",
      "+-----------+--------------+--------------+--------------+-----------------+--------------------+-------------+--------------+----------------+\n",
      "|          1|       Richard|     Hernandez|     XXXXXXXXX|        XXXXXXXXX|  6303 Heather Plaza|  Brownsville|            TX|           78521|\n",
      "|          2|          Mary|       Barrett|     XXXXXXXXX|        XXXXXXXXX|9526 Noble Embers...|    Littleton|            CO|           80126|\n",
      "+-----------+--------------+--------------+--------------+-----------------+--------------------+-------------+--------------+----------------+\n",
      "only showing top 2 rows\n",
      "\n"
     ]
    }
   ],
   "source": [
    "customers_df.show(2)"
   ]
  },
  {
   "cell_type": "markdown",
   "metadata": {},
   "source": [
    "# Solving Problem Statements of Retailers using PySpark"
   ]
  },
  {
   "cell_type": "markdown",
   "metadata": {},
   "source": [
    "Question 01: Find the total number of orders."
   ]
  },
  {
   "cell_type": "code",
   "execution_count": 19,
   "metadata": {},
   "outputs": [
    {
     "name": "stderr",
     "output_type": "stream",
     "text": [
      "                                                                                \r"
     ]
    },
    {
     "data": {
      "text/plain": [
       "68883"
      ]
     },
     "execution_count": 19,
     "metadata": {},
     "output_type": "execute_result"
    }
   ],
   "source": [
    "total_orders = orders_df.count()\n",
    "total_orders"
   ]
  },
  {
   "cell_type": "markdown",
   "metadata": {},
   "source": [
    "Question 02: Find the average revenue per order."
   ]
  },
  {
   "cell_type": "code",
   "execution_count": 20,
   "metadata": {},
   "outputs": [],
   "source": [
    "from pyspark.sql import functions as F"
   ]
  },
  {
   "cell_type": "code",
   "execution_count": 21,
   "metadata": {},
   "outputs": [],
   "source": [
    "avg_revenue = orders_df.join(order_items_df, F.col(\"order_id\") == F.col(\"order_item_order_id\")) \\\n",
    "        .select('order_item_subtotal', 'order_item_order_id') \\\n",
    "        .select((F.sum('order_item_subtotal') / F.countDistinct('order_item_order_id')).alias('avg_rev_per_order'))"
   ]
  },
  {
   "cell_type": "code",
   "execution_count": 22,
   "metadata": {},
   "outputs": [
    {
     "name": "stderr",
     "output_type": "stream",
     "text": [
      "[Stage 5:=============================>                             (1 + 1) / 2]\r"
     ]
    },
    {
     "name": "stdout",
     "output_type": "stream",
     "text": [
      "+-----------------+\n",
      "|avg_rev_per_order|\n",
      "+-----------------+\n",
      "|597.6322996016944|\n",
      "+-----------------+\n",
      "\n"
     ]
    },
    {
     "name": "stderr",
     "output_type": "stream",
     "text": [
      "                                                                                \r"
     ]
    }
   ],
   "source": [
    "avg_revenue.show()"
   ]
  },
  {
   "cell_type": "markdown",
   "metadata": {},
   "source": [
    "Question 03: Find the average revenue per day."
   ]
  },
  {
   "cell_type": "code",
   "execution_count": 23,
   "metadata": {},
   "outputs": [],
   "source": [
    "avg_rev_per_day = orders_df.join(order_items_df, F.col(\"order_id\") == F.col(\"order_item_order_id\")) \\\n",
    "                  .select('order_date', 'order_item_subtotal', 'order_item_order_id') \\\n",
    "                  .groupBy('order_date') \\\n",
    "                  .agg((F.sum('order_item_subtotal') / F.countDistinct('order_item_order_id')).alias('avg_rev_per_day')) \\\n",
    "                  .orderBy('order_date')\n"
   ]
  },
  {
   "cell_type": "code",
   "execution_count": 33,
   "metadata": {},
   "outputs": [
    {
     "name": "stderr",
     "output_type": "stream",
     "text": [
      "[Stage 25:=============================>                            (1 + 1) / 2]\r"
     ]
    },
    {
     "name": "stdout",
     "output_type": "stream",
     "text": [
      "+--------------------+-----------------+\n",
      "|          order_date|  avg_rev_per_day|\n",
      "+--------------------+-----------------+\n",
      "|2013-07-25 00:00:...|587.5330286848134|\n",
      "|2013-07-26 00:00:...|585.9234878147109|\n",
      "|2013-07-27 00:00:...|577.5676682063512|\n",
      "|2013-07-28 00:00:...|551.4119109020958|\n",
      "|2013-07-29 00:00:...|635.5883909684641|\n",
      "|2013-07-30 00:00:...|564.5363838698838|\n",
      "|2013-07-31 00:00:...|630.9955146643533|\n",
      "|2013-08-01 00:00:...|608.4982189502356|\n",
      "|2013-08-02 00:00:...|587.8871075517388|\n",
      "|2013-08-03 00:00:...|599.1628419048382|\n",
      "+--------------------+-----------------+\n",
      "only showing top 10 rows\n",
      "\n"
     ]
    },
    {
     "name": "stderr",
     "output_type": "stream",
     "text": [
      "                                                                                \r"
     ]
    }
   ],
   "source": [
    "avg_rev_per_day.show(10)"
   ]
  },
  {
   "cell_type": "markdown",
   "metadata": {},
   "source": [
    "Question 4: Find the average revenue per month."
   ]
  },
  {
   "cell_type": "code",
   "execution_count": 37,
   "metadata": {},
   "outputs": [],
   "source": [
    "avg_revenue_per_month = orders_df.join(order_items_df, F.col(\"order_id\") == F.col(\"order_item_order_id\")) \\\n",
    "                      .select('order_date', 'order_item_subtotal', 'order_item_order_id') \\\n",
    "                      .withColumn(\"date\", F.to_date(F.col(\"order_date\").cast(\"timestamp\"))) \\\n",
    "                      .withColumn(\"month\", F.month(F.col(\"date\")))\\\n",
    "                      .withColumn(\"year\", F.year(F.col(\"date\")))\\\n",
    "                      .groupBy('month', 'year') \\\n",
    "                      .agg(F.avg('order_item_subtotal').alias('avg_rev_per_month')) \\\n",
    "                      .orderBy('month')"
   ]
  },
  {
   "cell_type": "code",
   "execution_count": 38,
   "metadata": {},
   "outputs": [
    {
     "name": "stderr",
     "output_type": "stream",
     "text": [
      "[Stage 32:=============================>                            (1 + 1) / 2]\r"
     ]
    },
    {
     "name": "stdout",
     "output_type": "stream",
     "text": [
      "+-----+----+------------------+\n",
      "|month|year| avg_rev_per_month|\n",
      "+-----+----+------------------+\n",
      "|    1|2014| 199.4031819907084|\n",
      "|    2|2014|197.99513431082633|\n",
      "|    3|2014| 199.4768129569396|\n",
      "|    4|2014|197.84314083932082|\n",
      "|    5|2014|200.16564445417947|\n",
      "|    6|2014|203.19154387871515|\n",
      "|    7|2014|198.73016375184736|\n",
      "|    7|2013|200.15236972658087|\n",
      "|    8|2013|198.25194523225554|\n",
      "|    9|2013|199.70922326100543|\n",
      "|   10|2013|198.59266499428136|\n",
      "|   11|2013| 199.2238976529843|\n",
      "|   12|2013| 199.1285441948526|\n",
      "+-----+----+------------------+\n",
      "\n"
     ]
    },
    {
     "name": "stderr",
     "output_type": "stream",
     "text": [
      "                                                                                \r"
     ]
    }
   ],
   "source": [
    "avg_revenue_per_month.show()"
   ]
  },
  {
   "cell_type": "markdown",
   "metadata": {},
   "source": [
    "Question 5:  Which departments have the best performance?"
   ]
  },
  {
   "cell_type": "code",
   "execution_count": 56,
   "metadata": {},
   "outputs": [],
   "source": [
    "top_perform_dept = orders_df.filter((F.col(\"order_status\") != 'CANCELED') & (F.col(\"order_status\") != 'SUSPECTED_FRAUD')) \\\n",
    "      .join(order_items_df, F.col(\"order_id\") == F.col(\"order_item_order_id\"), how='inner') \\\n",
    "      .join(products_df, F.col(\"order_item_product_id\") == F.col(\"product_id\"), how='inner') \\\n",
    "      .join(categories_df, F.col(\"product_category_id\") == F.col(\"category_id\"), how='inner') \\\n",
    "      .join(departments_df, F.col(\"category_department_id\") == F.col(\"department_id\"), how='inner') \\\n",
    "      .select('department_name', F.year(F.col(\"order_date\")).alias('order_year'), 'order_item_subtotal') \\\n",
    "      .groupBy(F.col(\"department_name\"), 'order_year') \\\n",
    "      .agg(F.sum(F.col(\"order_item_subtotal\")).alias('total_revenue')) \\\n",
    "      .orderBy(F.col('total_revenue').desc()) "
   ]
  },
  {
   "cell_type": "code",
   "execution_count": 57,
   "metadata": {},
   "outputs": [
    {
     "name": "stderr",
     "output_type": "stream",
     "text": [
      "[Stage 88:=============================>                            (1 + 1) / 2]\r"
     ]
    },
    {
     "name": "stdout",
     "output_type": "stream",
     "text": [
      "+---------------+----------+------------------+\n",
      "|department_name|order_year|     total_revenue|\n",
      "+---------------+----------+------------------+\n",
      "|       Fan Shop|      2014|  9095735.77280426|\n",
      "|       Fan Shop|      2013| 7290831.879999161|\n",
      "|        Apparel|      2014| 3917585.841217041|\n",
      "|        Apparel|      2013|3090985.6535224915|\n",
      "|           Golf|      2014|2440585.2815055847|\n",
      "|       Footwear|      2014| 2122339.649032593|\n",
      "|           Golf|      2013| 1967396.959728241|\n",
      "|       Footwear|      2013|1711492.5186824799|\n",
      "|       Outdoors|      2014| 532437.6709976196|\n",
      "|       Outdoors|      2013| 420317.9507675171|\n",
      "|        Fitness|      2014| 150509.1409931183|\n",
      "|        Fitness|      2013|119526.58082199097|\n",
      "+---------------+----------+------------------+\n",
      "\n"
     ]
    },
    {
     "name": "stderr",
     "output_type": "stream",
     "text": [
      "                                                                                \r"
     ]
    }
   ],
   "source": [
    "top_perform_dept.show()"
   ]
  },
  {
   "cell_type": "markdown",
   "metadata": {},
   "source": [
    "Question 6: What is the most expensive item in the catalog?"
   ]
  },
  {
   "cell_type": "code",
   "execution_count": 60,
   "metadata": {},
   "outputs": [
    {
     "data": {
      "text/plain": [
       "1999.989990234375"
      ]
     },
     "execution_count": 60,
     "metadata": {},
     "output_type": "execute_result"
    }
   ],
   "source": [
    "max_pt = products_df.select(F.max('product_price')).collect()[0][0]\n",
    "max_pt"
   ]
  },
  {
   "cell_type": "code",
   "execution_count": 62,
   "metadata": {},
   "outputs": [],
   "source": [
    "most_expns_product_df = products_df.select('product_id', 'product_category_id', 'product_name', 'product_price') \\\n",
    "                .filter(F.col('product_price') == max_pt)"
   ]
  },
  {
   "cell_type": "code",
   "execution_count": 63,
   "metadata": {},
   "outputs": [
    {
     "name": "stdout",
     "output_type": "stream",
     "text": [
      "+----------+-------------------+-------------------+-------------+\n",
      "|product_id|product_category_id|       product_name|product_price|\n",
      "+----------+-------------------+-------------------+-------------+\n",
      "|       208|                 10|SOLE E35 Elliptical|      1999.99|\n",
      "+----------+-------------------+-------------------+-------------+\n",
      "\n"
     ]
    }
   ],
   "source": [
    "most_expns_product_df.show()"
   ]
  },
  {
   "cell_type": "markdown",
   "metadata": {},
   "source": [
    "Question 07: Which products have generated the most revenue?"
   ]
  },
  {
   "cell_type": "code",
   "execution_count": 65,
   "metadata": {},
   "outputs": [],
   "source": [
    "highest_grossing_item = order_items_df.select('order_item_product_id', 'order_item_subtotal') \\\n",
    "     .groupBy('order_item_product_id') \\\n",
    "     .agg(F.sum('order_item_subtotal').alias('product_revenue')) \\\n",
    "     .orderBy('product_revenue', ascending=False) \\\n",
    "     .limit(1) \\\n",
    "     .join(products_df, F.col(\"order_item_product_id\") == F.col(\"product_id\"), how='inner') \\\n",
    "     .select('product_id', 'product_category_id', 'product_name', 'product_revenue')"
   ]
  },
  {
   "cell_type": "code",
   "execution_count": 66,
   "metadata": {},
   "outputs": [
    {
     "name": "stderr",
     "output_type": "stream",
     "text": [
      "                                                                                \r"
     ]
    },
    {
     "name": "stdout",
     "output_type": "stream",
     "text": [
      "+----------+-------------------+--------------------+-----------------+\n",
      "|product_id|product_category_id|        product_name|  product_revenue|\n",
      "+----------+-------------------+--------------------+-----------------+\n",
      "|      1004|                 45|Field & Stream Sp...|6929653.690338135|\n",
      "+----------+-------------------+--------------------+-----------------+\n",
      "\n"
     ]
    }
   ],
   "source": [
    "highest_grossing_item.show()"
   ]
  },
  {
   "cell_type": "markdown",
   "metadata": {},
   "source": [
    "Question 08: What are the top-ordered categories in the retail data?"
   ]
  },
  {
   "cell_type": "code",
   "execution_count": 68,
   "metadata": {},
   "outputs": [],
   "source": [
    "popular_category_df = order_items_df.join(products_df, F.col(\"order_item_product_id\") ==  F.col(\"product_id\"), how='inner') \\\n",
    "                 .join(categories_df, F.col(\"category_id\") == F.col(\"product_category_id\"), how='inner') \\\n",
    "                 .groupBy('category_name') \\\n",
    "                 .agg(F.sum('order_item_quantity').alias('order_count')) \\\n",
    "                 .orderBy('order_count', ascending=False) \\\n",
    "                 .limit(10)"
   ]
  },
  {
   "cell_type": "code",
   "execution_count": 69,
   "metadata": {},
   "outputs": [
    {
     "name": "stderr",
     "output_type": "stream",
     "text": [
      "[Stage 104:============================>                            (1 + 1) / 2]\r"
     ]
    },
    {
     "name": "stdout",
     "output_type": "stream",
     "text": [
      "+--------------------+-----------+\n",
      "|       category_name|order_count|\n",
      "+--------------------+-----------+\n",
      "|              Cleats|      73734|\n",
      "|     Women's Apparel|      62956|\n",
      "|Indoor/Outdoor Games|      57803|\n",
      "|    Cardio Equipment|      37587|\n",
      "|       Shop By Sport|      32726|\n",
      "|      Men's Footwear|      22246|\n",
      "|             Fishing|      17325|\n",
      "|        Water Sports|      15540|\n",
      "|    Camping & Hiking|      13729|\n",
      "|         Electronics|       9436|\n",
      "+--------------------+-----------+\n",
      "\n"
     ]
    },
    {
     "name": "stderr",
     "output_type": "stream",
     "text": [
      "                                                                                \r"
     ]
    }
   ],
   "source": [
    "popular_category_df.show()"
   ]
  },
  {
   "cell_type": "code",
   "execution_count": 98,
   "metadata": {},
   "outputs": [],
   "source": [
    "import pandas\n",
    "import matplotlib as plt"
   ]
  },
  {
   "cell_type": "code",
   "execution_count": 84,
   "metadata": {},
   "outputs": [
    {
     "data": {
      "image/png": "[encoded data removed]",
      "text/plain": [
       "<Figure size 900x900 with 1 Axes>"
      ]
     },
     "metadata": {},
     "output_type": "display_data"
    }
   ],
   "source": [
    "# convert it in pandas dataframe\n",
    "pop_cat = popular_category_df.toPandas()\n",
    "# create the pie-chart\n",
    "pop_cat.plot(kind='pie', y = 'order_count', autopct='%1.1f%%', startangle=90, labels=pop_cat['category_name'], legend=False, title='Most popular Categories', figsize=(9, 9));"
   ]
  },
  {
   "cell_type": "markdown",
   "metadata": {},
   "source": [
    "Question 09: Find the count of orders based on their status."
   ]
  },
  {
   "cell_type": "code",
   "execution_count": 87,
   "metadata": {},
   "outputs": [
    {
     "name": "stdout",
     "output_type": "stream",
     "text": [
      "+---------------+------------+\n",
      "|   order_status|total_status|\n",
      "+---------------+------------+\n",
      "|PENDING_PAYMENT|       15030|\n",
      "|       COMPLETE|       22899|\n",
      "|        ON_HOLD|        3798|\n",
      "| PAYMENT_REVIEW|         729|\n",
      "|     PROCESSING|        8275|\n",
      "|         CLOSED|        7556|\n",
      "|SUSPECTED_FRAUD|        1558|\n",
      "|        PENDING|        7610|\n",
      "|       CANCELED|        1428|\n",
      "+---------------+------------+\n",
      "\n"
     ]
    }
   ],
   "source": [
    "orders_by_status = orders_df.groupBy(F.col(\"order_status\")) \\\n",
    "                .agg(F.count(F.col(\"order_status\")).alias(\"total_status\"))\n",
    "\n",
    "orders_by_status.show()"
   ]
  },
  {
   "cell_type": "code",
   "execution_count": 96,
   "metadata": {},
   "outputs": [],
   "source": [
    "order_stat = orders_by_status.toPandas()"
   ]
  },
  {
   "cell_type": "code",
   "execution_count": 97,
   "metadata": {},
   "outputs": [],
   "source": [
    "import seaborn as sns"
   ]
  },
  {
   "cell_type": "code",
   "execution_count": 102,
   "metadata": {},
   "outputs": [
    {
     "data": {
      "text/plain": [
       "Text(0.5, 1.0, 'Number of Orders By Status')"
      ]
     },
     "execution_count": 102,
     "metadata": {},
     "output_type": "execute_result"
    },
    {
     "data": {
      "image/png": "[encoded data removed]",
      "text/plain": [
       "<Figure size 640x480 with 1 Axes>"
      ]
     },
     "metadata": {},
     "output_type": "display_data"
    }
   ],
   "source": [
    "g = sns.barplot(x='order_status', y='total_status', data=order_stat)\n",
    "g.set_title('Number of Orders By Status')"
   ]
  },
  {
   "cell_type": "markdown",
   "metadata": {},
   "source": [
    "Question 10: Find all orders whose status is CANCELED, and the order amount is more than $1000."
   ]
  },
  {
   "cell_type": "code",
   "execution_count": 105,
   "metadata": {},
   "outputs": [],
   "source": [
    "cancelled_orders = orders_df.filter(F.col('order_status') == 'CANCELED') \\\n",
    "                 .join(order_items_df, F.col(\"order_id\") == F.col(\"order_item_order_id\")) \\\n",
    "                 .groupBy(\"order_id\", \"order_date\", \"order_customer_id\", \"order_status\") \\\n",
    "                 .agg(F.sum('order_item_subtotal').alias('order_total')) \\\n",
    "                 .filter(F.col('order_total') >= 1000) \\\n",
    "                 .orderBy('order_id')"
   ]
  },
  {
   "cell_type": "code",
   "execution_count": 106,
   "metadata": {},
   "outputs": [
    {
     "name": "stderr",
     "output_type": "stream",
     "text": [
      "                                                                                \r"
     ]
    },
    {
     "name": "stdout",
     "output_type": "stream",
     "text": [
      "+--------+--------------------+-----------------+------------+------------------+\n",
      "|order_id|          order_date|order_customer_id|order_status|       order_total|\n",
      "+--------+--------------------+-----------------+------------+------------------+\n",
      "|     753|2013-07-29 00:00:...|             5094|    CANCELED|           1129.75|\n",
      "|    2012|2013-08-04 00:00:...|             5165|    CANCELED|1499.8600311279297|\n",
      "|    2144|2013-08-05 00:00:...|             7932|    CANCELED| 1099.900032043457|\n",
      "|    2189|2013-08-06 00:00:...|             6829|    CANCELED|1029.9400253295898|\n",
      "|    2271|2013-08-06 00:00:...|             7603|    CANCELED|1229.9300231933594|\n",
      "|    2754|2013-08-09 00:00:...|             8946|    CANCELED|1109.9500274658203|\n",
      "|    3551|2013-08-14 00:00:...|             5363|    CANCELED|1299.8700408935547|\n",
      "|    4354|2013-08-20 00:00:...|             7268|    CANCELED|1047.9000244140625|\n",
      "|    4801|2013-08-23 00:00:...|            11630|    CANCELED|1016.9500217437744|\n",
      "|    5331|2013-08-26 00:00:...|             3361|    CANCELED|1229.8100204467773|\n",
      "|    5613|2013-08-28 00:00:...|             7052|    CANCELED|1049.8700103759766|\n",
      "|    6180|2013-09-02 00:00:...|             8688|    CANCELED|1059.8800354003906|\n",
      "|    6231|2013-09-02 00:00:...|            12347|    CANCELED|1279.8900299072266|\n",
      "|    6548|2013-09-04 00:00:...|              172|    CANCELED| 1069.910026550293|\n",
      "|    6819|2013-09-06 00:00:...|             1548|    CANCELED|1149.8500366210938|\n",
      "|    7053|2013-09-07 00:00:...|            10424|    CANCELED|1339.8500213623047|\n",
      "|    7360|2013-09-08 00:00:...|            12102|    CANCELED|1009.9200286865234|\n",
      "|    7491|2013-09-09 00:00:...|             6892|    CANCELED|1249.8500213623047|\n",
      "|    8433|2013-09-15 00:00:...|             6568|    CANCELED|1329.9200439453125|\n",
      "|    8488|2013-09-16 00:00:...|             9154|    CANCELED|1079.8900108337402|\n",
      "+--------+--------------------+-----------------+------------+------------------+\n",
      "only showing top 20 rows\n",
      "\n"
     ]
    }
   ],
   "source": [
    "cancelled_orders.show()"
   ]
  },
  {
   "cell_type": "markdown",
   "metadata": {},
   "source": [
    "Question 11: Find all customers who made more than five orders in August 2013."
   ]
  },
  {
   "cell_type": "code",
   "execution_count": 108,
   "metadata": {},
   "outputs": [],
   "source": [
    "order_more_than_five = orders_df.filter((F.col('order_status') != 'CANCELED') & (F.col('order_status') != 'SUSPECTED_FRAUD')) \\\n",
    "                      .filter((F.year('order_date') == 2013) & (F.month('order_date') == 8)) \\\n",
    "                      .join(order_items_df, F.col(\"order_id\") == F.col(\"order_item_order_id\"), how='inner') \\\n",
    "                      .join(customers_df, F.col(\"order_customer_id\") == F.col(\"customer_id\"), how='inner') \\\n",
    "                      .select('customer_id', 'customer_fname', 'customer_lname', 'order_id') \\\n",
    "                      .groupBy('customer_id', 'customer_fname', 'customer_lname') \\\n",
    "                      .agg(F.count('order_id').alias('order_count')) \\\n",
    "                      .where(F.col('order_count') > 5) \\\n",
    "                      .orderBy(F.col('order_count'), F.col('customer_id'), ascending=[0, 1])"
   ]
  },
  {
   "cell_type": "code",
   "execution_count": 109,
   "metadata": {},
   "outputs": [
    {
     "name": "stderr",
     "output_type": "stream",
     "text": [
      "[Stage 144:============================>                            (1 + 1) / 2]\r"
     ]
    },
    {
     "name": "stdout",
     "output_type": "stream",
     "text": [
      "+-----------+--------------+--------------+-----------+\n",
      "|customer_id|customer_fname|customer_lname|order_count|\n",
      "+-----------+--------------+--------------+-----------+\n",
      "|        791|          Mary|         Smith|         15|\n",
      "|       5047|       Shirley|     Whitehead|         14|\n",
      "|       5477|          Mary|         Smith|         14|\n",
      "|       6088|          Mary|        Brooks|         14|\n",
      "|       9371|          Mary|     Patterson|         14|\n",
      "|       3295|         Maria|        Joseph|         13|\n",
      "|       3536|          Mary|        Tanner|         13|\n",
      "|       4582|         Brian|         House|         13|\n",
      "|       5865|         David|     Middleton|         13|\n",
      "|       8069|       Tiffany|      Mcdaniel|         13|\n",
      "|       9575|          John|      Richards|         13|\n",
      "|       5327|          Mary|       Mcbride|         12|\n",
      "|       5992|          Mary|         Cross|         12|\n",
      "|       9494|        Robert|       Gilmore|         12|\n",
      "|       9657|           Roy|      Williams|         12|\n",
      "|      12362|          Mary|         Smith|         12|\n",
      "|        174|          Mary|         Perez|         11|\n",
      "|        867|     Catherine|         Smith|         11|\n",
      "|       2018|       Shirley|          Bell|         11|\n",
      "|       4914|          Mary|        Curtis|         11|\n",
      "+-----------+--------------+--------------+-----------+\n",
      "only showing top 20 rows\n",
      "\n"
     ]
    },
    {
     "name": "stderr",
     "output_type": "stream",
     "text": [
      "                                                                                \r"
     ]
    }
   ],
   "source": [
    "order_more_than_five.show()"
   ]
  },
  {
   "cell_type": "code",
   "execution_count": null,
   "metadata": {},
   "outputs": [],
   "source": []
  }
 ],
 "metadata": {
  "kernelspec": {
   "display_name": "Python 3.8.10 64-bit",
   "language": "python",
   "name": "python3"
  },
  "language_info": {
   "codemirror_mode": {
    "name": "ipython",
    "version": 3
   },
   "file_extension": ".py",
   "mimetype": "text/x-python",
   "name": "python",
   "nbconvert_exporter": "python",
   "pygments_lexer": "ipython3",
   "version": "3.8.10"
  },
  "orig_nbformat": 4,
  "vscode": {
   "interpreter": {
    "hash": "e7370f93d1d0cde622a1f8e1c04877d8463912d04d973331ad4851f04de6915a"
   }
  }
 },
 "nbformat": 4,
 "nbformat_minor": 2
}
